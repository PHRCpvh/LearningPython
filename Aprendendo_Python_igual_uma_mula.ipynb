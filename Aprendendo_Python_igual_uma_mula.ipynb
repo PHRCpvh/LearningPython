{
  "nbformat": 4,
  "nbformat_minor": 0,
  "metadata": {
    "colab": {
      "name": "Aprendendo Python igual uma mula.ipynb",
      "provenance": [],
      "authorship_tag": "ABX9TyNMugOPq+QLDJvmQ1cJtQ/L",
      "include_colab_link": true
    },
    "kernelspec": {
      "name": "python3",
      "display_name": "Python 3"
    }
  },
  "cells": [
    {
      "cell_type": "markdown",
      "metadata": {
        "id": "view-in-github",
        "colab_type": "text"
      },
      "source": [
        "<a href=\"https://colab.research.google.com/github/PHRCpvh/LearningPython/blob/master/Aprendendo_Python_igual_uma_mula.ipynb\" target=\"_parent\"><img src=\"https://colab.research.google.com/assets/colab-badge.svg\" alt=\"Open In Colab\"/></a>"
      ]
    },
    {
      "cell_type": "markdown",
      "metadata": {
        "id": "q4Vvn5VVMPzK",
        "colab_type": "text"
      },
      "source": [
        "# Estação Espacial Internacional"
      ]
    },
    {
      "cell_type": "code",
      "metadata": {
        "id": "ftrYJsQVnCgo",
        "colab_type": "code",
        "colab": {}
      },
      "source": [
        "import requests\n",
        "import json"
      ],
      "execution_count": null,
      "outputs": []
    },
    {
      "cell_type": "code",
      "metadata": {
        "id": "9TMUSR3Uq7CY",
        "colab_type": "code",
        "colab": {
          "base_uri": "https://localhost:8080/",
          "height": 35
        },
        "outputId": "26847755-783b-40de-e6e2-3f958792844d"
      },
      "source": [
        "response = requests.get(\"http://api.open-notify.org/iss-now.json\")\n",
        "print(response.status_code)"
      ],
      "execution_count": null,
      "outputs": [
        {
          "output_type": "stream",
          "text": [
            "200\n"
          ],
          "name": "stdout"
        }
      ]
    },
    {
      "cell_type": "code",
      "metadata": {
        "id": "YhkauGu9xt9G",
        "colab_type": "code",
        "colab": {
          "base_uri": "https://localhost:8080/",
          "height": 35
        },
        "outputId": "453cb25b-d087-4857-9b3c-d20ec81b844c"
      },
      "source": [
        "print(response.json())"
      ],
      "execution_count": null,
      "outputs": [
        {
          "output_type": "stream",
          "text": [
            "{'message': 'success', 'timestamp': 1596834760, 'iss_position': {'latitude': '26.0333', 'longitude': '-159.6444'}}\n"
          ],
          "name": "stdout"
        }
      ]
    },
    {
      "cell_type": "code",
      "metadata": {
        "id": "fU8qFU3F1a7Q",
        "colab_type": "code",
        "colab": {
          "base_uri": "https://localhost:8080/",
          "height": 88
        },
        "outputId": "adf4def3-cd97-4383-9ac0-c582f5c22c86"
      },
      "source": [
        "json_response = response.json()\n",
        "latitude = json_response['iss_position']['latitude']\n",
        "longitude = json_response['iss_position']['longitude']\n",
        "if latitude in range(0,90):\n",
        "  print('Hemisfério Norte')\n",
        "else:\n",
        "  print('Hemisfério Sul')\n",
        "if longitude in range(0,180):\n",
        "  print('Hemisfério Ocidental')\n",
        "else:\n",
        "  print('Hemisfério Oriental')\n",
        "print('Latitude: ',latitude)\n",
        "print('Longitude: ',longitude)"
      ],
      "execution_count": null,
      "outputs": [
        {
          "output_type": "stream",
          "text": [
            "Hemisfério Sul\n",
            "Hemisfério Oriental\n",
            "Latitude:  26.0333\n",
            "Longitude:  -159.6444\n"
          ],
          "name": "stdout"
        }
      ]
    },
    {
      "cell_type": "markdown",
      "metadata": {
        "id": "cwEshHquMWvk",
        "colab_type": "text"
      },
      "source": [
        "# Bolsa de Frankfurt (ALE)"
      ]
    },
    {
      "cell_type": "code",
      "metadata": {
        "id": "9HiSSk10Maji",
        "colab_type": "code",
        "colab": {}
      },
      "source": [
        "import pandas as pd\n",
        "import requests\n",
        "import json"
      ],
      "execution_count": null,
      "outputs": []
    },
    {
      "cell_type": "code",
      "metadata": {
        "id": "mMs9dbldMdU2",
        "colab_type": "code",
        "colab": {}
      },
      "source": [
        "response = requests.get('https://www.quandl.com/api/v3/datasets/FSE/BDT_X')"
      ],
      "execution_count": null,
      "outputs": []
    },
    {
      "cell_type": "code",
      "metadata": {
        "id": "bELfDaziNHUY",
        "colab_type": "code",
        "colab": {
          "base_uri": "https://localhost:8080/",
          "height": 267
        },
        "outputId": "f38211de-7915-441a-9c67-5cbc95320ee4"
      },
      "source": [
        "response_json = response.json()\n",
        "df = pd.DataFrame(response_json['dataset']['data'], columns = response_json['dataset']['column_names'])\n",
        "print(df)"
      ],
      "execution_count": null,
      "outputs": [
        {
          "output_type": "stream",
          "text": [
            "            Date   Open  ...  Daily Traded Units  Daily Turnover\n",
            "0     2020-08-07  33.15  ...                None             NaN\n",
            "1     2020-08-06  34.00  ...                None             NaN\n",
            "2     2020-08-05  31.90  ...                None             NaN\n",
            "3     2020-08-04  32.10  ...                None             NaN\n",
            "4     2020-08-03  32.10  ...                None             NaN\n",
            "...          ...    ...  ...                 ...             ...\n",
            "5278  2000-01-07    NaN  ...                None             0.0\n",
            "5279  2000-01-06    NaN  ...                None             0.0\n",
            "5280  2000-01-05    NaN  ...                None             0.0\n",
            "5281  2000-01-04    NaN  ...                None             0.0\n",
            "5282  2000-01-03    NaN  ...                None             0.0\n",
            "\n",
            "[5283 rows x 11 columns]\n"
          ],
          "name": "stdout"
        }
      ]
    }
  ]
}